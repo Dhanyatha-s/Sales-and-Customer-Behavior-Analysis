{
 "cells": [
  {
   "cell_type": "markdown",
   "id": "e536e1c1",
   "metadata": {},
   "source": [
    "# Sales and Customer Behavior Analysis"
   ]
  },
  {
   "cell_type": "markdown",
   "id": "898545b9",
   "metadata": {},
   "source": [
    "### Problem Statement: \n",
    "The company wants to analyze its sales data to understand customer purchasing behavior, identify top-selling products, and optimize inventory management.  \n",
    "\n",
    "##### Objectives:  \n",
    "\n",
    "Identify top-selling products.  \n",
    "Analyze customer purchasing patterns.  \n",
    "Optimize inventory levels to reduce stockouts and overstock.  \n"
   ]
  },
  {
   "cell_type": "code",
   "execution_count": 38,
   "id": "84b3a0d9",
   "metadata": {},
   "outputs": [],
   "source": [
    "import pandas as pd\n",
    "import numpy as np\n",
    "from sklearn.cluster import KMeans\n",
    "import matplotlib.pyplot as plt"
   ]
  },
  {
   "cell_type": "code",
   "execution_count": 40,
   "id": "d0061835",
   "metadata": {},
   "outputs": [],
   "source": [
    "import dataframe_image as dfi"
   ]
  },
  {
   "cell_type": "markdown",
   "id": "ba36abac",
   "metadata": {},
   "source": [
    "##### Dataset Description\n",
    "The dataset consists of 10 orders with the following columns:  \n",
    "  \n",
    "OrderID: Unique identifier for each order.  \n",
    "CustomerID: Unique identifier for each customer.  \n",
    "ProductID: Unique identifier for each product.  \n",
    "Quantity: Number of units ordered.  \n",
    "Price: Price per unit of the product.  \n",
    "OrderDate: Date of the order.  \n",
    "Category: Product category.  \n",
    "Region: Region where the order was placed.  \n",
    "TotalSales: Total sales amount for each order (calculated as Quantity * Price).  "
   ]
  },
  {
   "cell_type": "code",
   "execution_count": 2,
   "id": "8b6d25fa",
   "metadata": {},
   "outputs": [],
   "source": [
    "data = {\n",
    "    'OrderID': [1001, 1002, 1003, 1004, 1005, 1006, 1007, 1008, 1009, 1010],\n",
    "    'CustomerID': ['C001', 'C002', 'C003', 'C004', 'C001', 'C002', 'C005', 'C006', 'C007', 'C001'],\n",
    "    'ProductID': ['P001', 'P002', 'P003', 'P001', 'P004', 'P002', 'P005', 'P006', 'P003', 'P001'],\n",
    "    'Quantity': [2, 1, 3, 1, 4, 2, 1, 1, 2, 1],\n",
    "    'Price': [50.00, 150.00, 20.00, 50.00, 15.00, 150.00, 100.00, 200.00, 20.00, 50.00],\n",
    "    'OrderDate': ['2024-07-01', '2024-07-02', '2024-07-02', '2024-07-03', '2024-07-03',\n",
    "                                 '2024-07-05', '2024-07-06', '2024-07-07', '2024-07-08', '2024-07-09'],\n",
    "    'Category': ['Electronics', 'Apparel', 'Groceries', 'Electronics', 'Groceries', 'Apparel', 'Home', 'Electronics', 'Groceries', 'Electronics'],\n",
    "    'Region': ['North', 'East', 'West', 'South', 'North', 'East', 'West', 'North', 'East', 'North']\n",
    "}"
   ]
  },
  {
   "cell_type": "markdown",
   "id": "9432284e",
   "metadata": {},
   "source": [
    "converted OrderDate date to Datetime using pandas method"
   ]
  },
  {
   "cell_type": "code",
   "execution_count": 3,
   "id": "6f62972a",
   "metadata": {},
   "outputs": [],
   "source": [
    "df = pd.DataFrame(data)"
   ]
  },
  {
   "cell_type": "code",
   "execution_count": 4,
   "id": "b2af160e",
   "metadata": {},
   "outputs": [
    {
     "data": {
      "text/html": [
       "<div>\n",
       "<style scoped>\n",
       "    .dataframe tbody tr th:only-of-type {\n",
       "        vertical-align: middle;\n",
       "    }\n",
       "\n",
       "    .dataframe tbody tr th {\n",
       "        vertical-align: top;\n",
       "    }\n",
       "\n",
       "    .dataframe thead th {\n",
       "        text-align: right;\n",
       "    }\n",
       "</style>\n",
       "<table border=\"1\" class=\"dataframe\">\n",
       "  <thead>\n",
       "    <tr style=\"text-align: right;\">\n",
       "      <th></th>\n",
       "      <th>OrderID</th>\n",
       "      <th>CustomerID</th>\n",
       "      <th>ProductID</th>\n",
       "      <th>Quantity</th>\n",
       "      <th>Price</th>\n",
       "      <th>OrderDate</th>\n",
       "      <th>Category</th>\n",
       "      <th>Region</th>\n",
       "    </tr>\n",
       "  </thead>\n",
       "  <tbody>\n",
       "    <tr>\n",
       "      <th>0</th>\n",
       "      <td>1001</td>\n",
       "      <td>C001</td>\n",
       "      <td>P001</td>\n",
       "      <td>2</td>\n",
       "      <td>50.0</td>\n",
       "      <td>2024-07-01</td>\n",
       "      <td>Electronics</td>\n",
       "      <td>North</td>\n",
       "    </tr>\n",
       "    <tr>\n",
       "      <th>1</th>\n",
       "      <td>1002</td>\n",
       "      <td>C002</td>\n",
       "      <td>P002</td>\n",
       "      <td>1</td>\n",
       "      <td>150.0</td>\n",
       "      <td>2024-07-02</td>\n",
       "      <td>Apparel</td>\n",
       "      <td>East</td>\n",
       "    </tr>\n",
       "    <tr>\n",
       "      <th>2</th>\n",
       "      <td>1003</td>\n",
       "      <td>C003</td>\n",
       "      <td>P003</td>\n",
       "      <td>3</td>\n",
       "      <td>20.0</td>\n",
       "      <td>2024-07-02</td>\n",
       "      <td>Groceries</td>\n",
       "      <td>West</td>\n",
       "    </tr>\n",
       "    <tr>\n",
       "      <th>3</th>\n",
       "      <td>1004</td>\n",
       "      <td>C004</td>\n",
       "      <td>P001</td>\n",
       "      <td>1</td>\n",
       "      <td>50.0</td>\n",
       "      <td>2024-07-03</td>\n",
       "      <td>Electronics</td>\n",
       "      <td>South</td>\n",
       "    </tr>\n",
       "    <tr>\n",
       "      <th>4</th>\n",
       "      <td>1005</td>\n",
       "      <td>C001</td>\n",
       "      <td>P004</td>\n",
       "      <td>4</td>\n",
       "      <td>15.0</td>\n",
       "      <td>2024-07-03</td>\n",
       "      <td>Groceries</td>\n",
       "      <td>North</td>\n",
       "    </tr>\n",
       "    <tr>\n",
       "      <th>5</th>\n",
       "      <td>1006</td>\n",
       "      <td>C002</td>\n",
       "      <td>P002</td>\n",
       "      <td>2</td>\n",
       "      <td>150.0</td>\n",
       "      <td>2024-07-05</td>\n",
       "      <td>Apparel</td>\n",
       "      <td>East</td>\n",
       "    </tr>\n",
       "    <tr>\n",
       "      <th>6</th>\n",
       "      <td>1007</td>\n",
       "      <td>C005</td>\n",
       "      <td>P005</td>\n",
       "      <td>1</td>\n",
       "      <td>100.0</td>\n",
       "      <td>2024-07-06</td>\n",
       "      <td>Home</td>\n",
       "      <td>West</td>\n",
       "    </tr>\n",
       "    <tr>\n",
       "      <th>7</th>\n",
       "      <td>1008</td>\n",
       "      <td>C006</td>\n",
       "      <td>P006</td>\n",
       "      <td>1</td>\n",
       "      <td>200.0</td>\n",
       "      <td>2024-07-07</td>\n",
       "      <td>Electronics</td>\n",
       "      <td>North</td>\n",
       "    </tr>\n",
       "    <tr>\n",
       "      <th>8</th>\n",
       "      <td>1009</td>\n",
       "      <td>C007</td>\n",
       "      <td>P003</td>\n",
       "      <td>2</td>\n",
       "      <td>20.0</td>\n",
       "      <td>2024-07-08</td>\n",
       "      <td>Groceries</td>\n",
       "      <td>East</td>\n",
       "    </tr>\n",
       "    <tr>\n",
       "      <th>9</th>\n",
       "      <td>1010</td>\n",
       "      <td>C001</td>\n",
       "      <td>P001</td>\n",
       "      <td>1</td>\n",
       "      <td>50.0</td>\n",
       "      <td>2024-07-09</td>\n",
       "      <td>Electronics</td>\n",
       "      <td>North</td>\n",
       "    </tr>\n",
       "  </tbody>\n",
       "</table>\n",
       "</div>"
      ],
      "text/plain": [
       "   OrderID CustomerID ProductID  Quantity  Price   OrderDate     Category  \\\n",
       "0     1001       C001      P001         2   50.0  2024-07-01  Electronics   \n",
       "1     1002       C002      P002         1  150.0  2024-07-02      Apparel   \n",
       "2     1003       C003      P003         3   20.0  2024-07-02    Groceries   \n",
       "3     1004       C004      P001         1   50.0  2024-07-03  Electronics   \n",
       "4     1005       C001      P004         4   15.0  2024-07-03    Groceries   \n",
       "5     1006       C002      P002         2  150.0  2024-07-05      Apparel   \n",
       "6     1007       C005      P005         1  100.0  2024-07-06         Home   \n",
       "7     1008       C006      P006         1  200.0  2024-07-07  Electronics   \n",
       "8     1009       C007      P003         2   20.0  2024-07-08    Groceries   \n",
       "9     1010       C001      P001         1   50.0  2024-07-09  Electronics   \n",
       "\n",
       "  Region  \n",
       "0  North  \n",
       "1   East  \n",
       "2   West  \n",
       "3  South  \n",
       "4  North  \n",
       "5   East  \n",
       "6   West  \n",
       "7  North  \n",
       "8   East  \n",
       "9  North  "
      ]
     },
     "execution_count": 4,
     "metadata": {},
     "output_type": "execute_result"
    }
   ],
   "source": [
    "df   # there are 10 rows and 8 columns in this dataset"
   ]
  },
  {
   "cell_type": "code",
   "execution_count": 5,
   "id": "ebe387be",
   "metadata": {},
   "outputs": [
    {
     "data": {
      "text/plain": [
       "OrderID       10\n",
       "CustomerID    10\n",
       "ProductID     10\n",
       "Quantity      10\n",
       "Price         10\n",
       "OrderDate     10\n",
       "Category      10\n",
       "Region        10\n",
       "dtype: int64"
      ]
     },
     "execution_count": 5,
     "metadata": {},
     "output_type": "execute_result"
    }
   ],
   "source": [
    "df.count()"
   ]
  },
  {
   "cell_type": "markdown",
   "id": "e31bc31b",
   "metadata": {},
   "source": [
    "### Data Cleaning"
   ]
  },
  {
   "cell_type": "code",
   "execution_count": 6,
   "id": "e66ba5c5",
   "metadata": {},
   "outputs": [
    {
     "data": {
      "text/html": [
       "<div>\n",
       "<style scoped>\n",
       "    .dataframe tbody tr th:only-of-type {\n",
       "        vertical-align: middle;\n",
       "    }\n",
       "\n",
       "    .dataframe tbody tr th {\n",
       "        vertical-align: top;\n",
       "    }\n",
       "\n",
       "    .dataframe thead th {\n",
       "        text-align: right;\n",
       "    }\n",
       "</style>\n",
       "<table border=\"1\" class=\"dataframe\">\n",
       "  <thead>\n",
       "    <tr style=\"text-align: right;\">\n",
       "      <th></th>\n",
       "      <th>OrderID</th>\n",
       "      <th>CustomerID</th>\n",
       "      <th>ProductID</th>\n",
       "      <th>Quantity</th>\n",
       "      <th>Price</th>\n",
       "      <th>OrderDate</th>\n",
       "      <th>Category</th>\n",
       "      <th>Region</th>\n",
       "    </tr>\n",
       "  </thead>\n",
       "  <tbody>\n",
       "    <tr>\n",
       "      <th>0</th>\n",
       "      <td>False</td>\n",
       "      <td>False</td>\n",
       "      <td>False</td>\n",
       "      <td>False</td>\n",
       "      <td>False</td>\n",
       "      <td>False</td>\n",
       "      <td>False</td>\n",
       "      <td>False</td>\n",
       "    </tr>\n",
       "    <tr>\n",
       "      <th>1</th>\n",
       "      <td>False</td>\n",
       "      <td>False</td>\n",
       "      <td>False</td>\n",
       "      <td>False</td>\n",
       "      <td>False</td>\n",
       "      <td>False</td>\n",
       "      <td>False</td>\n",
       "      <td>False</td>\n",
       "    </tr>\n",
       "    <tr>\n",
       "      <th>2</th>\n",
       "      <td>False</td>\n",
       "      <td>False</td>\n",
       "      <td>False</td>\n",
       "      <td>False</td>\n",
       "      <td>False</td>\n",
       "      <td>False</td>\n",
       "      <td>False</td>\n",
       "      <td>False</td>\n",
       "    </tr>\n",
       "    <tr>\n",
       "      <th>3</th>\n",
       "      <td>False</td>\n",
       "      <td>False</td>\n",
       "      <td>False</td>\n",
       "      <td>False</td>\n",
       "      <td>False</td>\n",
       "      <td>False</td>\n",
       "      <td>False</td>\n",
       "      <td>False</td>\n",
       "    </tr>\n",
       "    <tr>\n",
       "      <th>4</th>\n",
       "      <td>False</td>\n",
       "      <td>False</td>\n",
       "      <td>False</td>\n",
       "      <td>False</td>\n",
       "      <td>False</td>\n",
       "      <td>False</td>\n",
       "      <td>False</td>\n",
       "      <td>False</td>\n",
       "    </tr>\n",
       "    <tr>\n",
       "      <th>5</th>\n",
       "      <td>False</td>\n",
       "      <td>False</td>\n",
       "      <td>False</td>\n",
       "      <td>False</td>\n",
       "      <td>False</td>\n",
       "      <td>False</td>\n",
       "      <td>False</td>\n",
       "      <td>False</td>\n",
       "    </tr>\n",
       "    <tr>\n",
       "      <th>6</th>\n",
       "      <td>False</td>\n",
       "      <td>False</td>\n",
       "      <td>False</td>\n",
       "      <td>False</td>\n",
       "      <td>False</td>\n",
       "      <td>False</td>\n",
       "      <td>False</td>\n",
       "      <td>False</td>\n",
       "    </tr>\n",
       "    <tr>\n",
       "      <th>7</th>\n",
       "      <td>False</td>\n",
       "      <td>False</td>\n",
       "      <td>False</td>\n",
       "      <td>False</td>\n",
       "      <td>False</td>\n",
       "      <td>False</td>\n",
       "      <td>False</td>\n",
       "      <td>False</td>\n",
       "    </tr>\n",
       "    <tr>\n",
       "      <th>8</th>\n",
       "      <td>False</td>\n",
       "      <td>False</td>\n",
       "      <td>False</td>\n",
       "      <td>False</td>\n",
       "      <td>False</td>\n",
       "      <td>False</td>\n",
       "      <td>False</td>\n",
       "      <td>False</td>\n",
       "    </tr>\n",
       "    <tr>\n",
       "      <th>9</th>\n",
       "      <td>False</td>\n",
       "      <td>False</td>\n",
       "      <td>False</td>\n",
       "      <td>False</td>\n",
       "      <td>False</td>\n",
       "      <td>False</td>\n",
       "      <td>False</td>\n",
       "      <td>False</td>\n",
       "    </tr>\n",
       "  </tbody>\n",
       "</table>\n",
       "</div>"
      ],
      "text/plain": [
       "   OrderID  CustomerID  ProductID  Quantity  Price  OrderDate  Category  \\\n",
       "0    False       False      False     False  False      False     False   \n",
       "1    False       False      False     False  False      False     False   \n",
       "2    False       False      False     False  False      False     False   \n",
       "3    False       False      False     False  False      False     False   \n",
       "4    False       False      False     False  False      False     False   \n",
       "5    False       False      False     False  False      False     False   \n",
       "6    False       False      False     False  False      False     False   \n",
       "7    False       False      False     False  False      False     False   \n",
       "8    False       False      False     False  False      False     False   \n",
       "9    False       False      False     False  False      False     False   \n",
       "\n",
       "   Region  \n",
       "0   False  \n",
       "1   False  \n",
       "2   False  \n",
       "3   False  \n",
       "4   False  \n",
       "5   False  \n",
       "6   False  \n",
       "7   False  \n",
       "8   False  \n",
       "9   False  "
      ]
     },
     "execution_count": 6,
     "metadata": {},
     "output_type": "execute_result"
    }
   ],
   "source": [
    "# check for null values\n",
    "df.isnull()"
   ]
  },
  {
   "cell_type": "markdown",
   "id": "a2aa9660",
   "metadata": {},
   "source": [
    "### Objective 1:\n",
    "#### Identify top-selling products.\n"
   ]
  },
  {
   "cell_type": "code",
   "execution_count": 7,
   "id": "acdf3d02",
   "metadata": {},
   "outputs": [],
   "source": [
    "df[\"TotalSales\"]= df[\"Quantity\"] * df[\"Price\"]"
   ]
  },
  {
   "cell_type": "code",
   "execution_count": 8,
   "id": "da87ef3b",
   "metadata": {},
   "outputs": [
    {
     "data": {
      "text/plain": [
       "0    100.0\n",
       "1    150.0\n",
       "2     60.0\n",
       "3     50.0\n",
       "4     60.0\n",
       "5    300.0\n",
       "6    100.0\n",
       "7    200.0\n",
       "8     40.0\n",
       "9     50.0\n",
       "Name: TotalSales, dtype: float64"
      ]
     },
     "execution_count": 8,
     "metadata": {},
     "output_type": "execute_result"
    }
   ],
   "source": [
    "df[\"TotalSales\"]"
   ]
  },
  {
   "cell_type": "markdown",
   "id": "8811ef57",
   "metadata": {},
   "source": [
    "### Highest Sales details"
   ]
  },
  {
   "cell_type": "code",
   "execution_count": 9,
   "id": "bc9f364d",
   "metadata": {},
   "outputs": [],
   "source": [
    "# find max index from totalsales\n",
    "max_sales = df[\"TotalSales\"].idxmax()"
   ]
  },
  {
   "cell_type": "code",
   "execution_count": 10,
   "id": "c5859b39",
   "metadata": {},
   "outputs": [
    {
     "data": {
      "text/plain": [
       "OrderID             1006\n",
       "CustomerID          C002\n",
       "ProductID           P002\n",
       "Quantity               2\n",
       "Price              150.0\n",
       "OrderDate     2024-07-05\n",
       "Category         Apparel\n",
       "Region              East\n",
       "TotalSales         300.0\n",
       "Name: 5, dtype: object"
      ]
     },
     "execution_count": 10,
     "metadata": {},
     "output_type": "execute_result"
    }
   ],
   "source": [
    "height_sales = df.loc[max_sales]\n",
    "height_sales"
   ]
  },
  {
   "cell_type": "markdown",
   "id": "72052019",
   "metadata": {},
   "source": [
    "So, productId ---> P002 whcih 2nd product has highest sales "
   ]
  },
  {
   "cell_type": "code",
   "execution_count": 11,
   "id": "cbbfa1f2",
   "metadata": {},
   "outputs": [],
   "source": [
    "# Group by ProductID to find top-selling products\n",
    "top_products = df.groupby('ProductID')['TotalSales'].sum().sort_values(ascending=False).head()"
   ]
  },
  {
   "cell_type": "code",
   "execution_count": 12,
   "id": "dbe8c3f0",
   "metadata": {},
   "outputs": [
    {
     "data": {
      "text/plain": [
       "ProductID\n",
       "P002    450.0\n",
       "P001    200.0\n",
       "P006    200.0\n",
       "P003    100.0\n",
       "P005    100.0\n",
       "Name: TotalSales, dtype: float64"
      ]
     },
     "execution_count": 12,
     "metadata": {},
     "output_type": "execute_result"
    }
   ],
   "source": [
    "top_products"
   ]
  },
  {
   "cell_type": "code",
   "execution_count": 13,
   "id": "f4c103d2",
   "metadata": {},
   "outputs": [
    {
     "data": {
      "image/png": "[encoded data removed]",
      "text/plain": [
       "<Figure size 1000x600 with 1 Axes>"
      ]
     },
     "metadata": {},
     "output_type": "display_data"
    }
   ],
   "source": [
    "plt.figure(figsize=(10,6))\n",
    "top_products.plot(kind='bar', color=\"Skyblue\")\n",
    "plt.title(\"Top-Selling-Product\")\n",
    "plt.xlabel(\"Product ID\")\n",
    "plt.ylabel(\"Total Sales\")\n",
    "plt.savefig('Top_selling_product.png')\n",
    "plt.show()"
   ]
  },
  {
   "cell_type": "code",
   "execution_count": 14,
   "id": "fb4ee966",
   "metadata": {
    "scrolled": true
   },
   "outputs": [
    {
     "data": {
      "text/plain": [
       "Region\n",
       "East     490.0\n",
       "North    410.0\n",
       "South     50.0\n",
       "West     160.0\n",
       "Name: TotalSales, dtype: float64"
      ]
     },
     "execution_count": 14,
     "metadata": {},
     "output_type": "execute_result"
    }
   ],
   "source": [
    "# Top Selling Product by Region\n",
    "regional_sales= df.groupby('Region')['TotalSales'].sum().sort_index()\n",
    "regional_sales"
   ]
  },
  {
   "cell_type": "code",
   "execution_count": 15,
   "id": "f898be6e",
   "metadata": {},
   "outputs": [
    {
     "data": {
      "image/png": "[encoded data removed]",
      "text/plain": [
       "<Figure size 800x600 with 1 Axes>"
      ]
     },
     "metadata": {},
     "output_type": "display_data"
    }
   ],
   "source": [
    "# Pivot the DataFrame for easier plotting\n",
    "pivot_df = df.pivot_table(index='ProductID', columns='Region', values='TotalSales', aggfunc='sum', fill_value=0)\n",
    "\n",
    "# Plot\n",
    "pivot_df.plot(kind='bar', figsize=(8, 6))\n",
    "plt.title('Regional Sales')\n",
    "plt.xlabel('Product ID')\n",
    "plt.ylabel('Total Sales')\n",
    "plt.legend(title='Region')\n",
    "plt.xticks(rotation=0)\n",
    "plt.tight_layout()\n",
    "plt.savefig('Regional_sales.png')\n",
    "plt.show()"
   ]
  },
  {
   "cell_type": "markdown",
   "id": "581f3934",
   "metadata": {},
   "source": [
    "### Objective 2\n",
    "#### Analyze customer purchasing patterns."
   ]
  },
  {
   "cell_type": "code",
   "execution_count": 47,
   "id": "a40671a8",
   "metadata": {},
   "outputs": [],
   "source": [
    "# Here i'm using statistical methods to analyze the customer behaviors"
   ]
  },
  {
   "cell_type": "markdown",
   "id": "973681e6",
   "metadata": {},
   "source": [
    "### Descriptive Statistics"
   ]
  },
  {
   "cell_type": "code",
   "execution_count": 48,
   "id": "f36d7c26",
   "metadata": {},
   "outputs": [],
   "source": [
    "# mean()\n",
    "# median()\n",
    "# standard Deviation std()"
   ]
  },
  {
   "cell_type": "code",
   "execution_count": 49,
   "id": "ee971bec",
   "metadata": {},
   "outputs": [
    {
     "data": {
      "text/plain": [
       "111.0"
      ]
     },
     "execution_count": 49,
     "metadata": {},
     "output_type": "execute_result"
    }
   ],
   "source": [
    "mean_value = df['TotalSales'].mean()\n",
    "mean_value"
   ]
  },
  {
   "cell_type": "code",
   "execution_count": 50,
   "id": "4bc6e84f",
   "metadata": {},
   "outputs": [
    {
     "data": {
      "text/plain": [
       "80.0"
      ]
     },
     "execution_count": 50,
     "metadata": {},
     "output_type": "execute_result"
    }
   ],
   "source": [
    "median_value = df['TotalSales'].median()\n",
    "median_value"
   ]
  },
  {
   "cell_type": "code",
   "execution_count": 51,
   "id": "2f90d3f1",
   "metadata": {},
   "outputs": [
    {
     "data": {
      "text/plain": [
       "83.72574275573791"
      ]
     },
     "execution_count": 51,
     "metadata": {},
     "output_type": "execute_result"
    }
   ],
   "source": [
    "std_value = df[\"TotalSales\"].std()\n",
    "std_value"
   ]
  },
  {
   "cell_type": "code",
   "execution_count": 52,
   "id": "d8e131d8",
   "metadata": {},
   "outputs": [
    {
     "data": {
      "text/html": [
       "<div>\n",
       "<style scoped>\n",
       "    .dataframe tbody tr th:only-of-type {\n",
       "        vertical-align: middle;\n",
       "    }\n",
       "\n",
       "    .dataframe tbody tr th {\n",
       "        vertical-align: top;\n",
       "    }\n",
       "\n",
       "    .dataframe thead th {\n",
       "        text-align: right;\n",
       "    }\n",
       "</style>\n",
       "<table border=\"1\" class=\"dataframe\">\n",
       "  <thead>\n",
       "    <tr style=\"text-align: right;\">\n",
       "      <th></th>\n",
       "      <th>OrderID</th>\n",
       "      <th>Quantity</th>\n",
       "      <th>Price</th>\n",
       "      <th>TotalSales</th>\n",
       "    </tr>\n",
       "  </thead>\n",
       "  <tbody>\n",
       "    <tr>\n",
       "      <th>count</th>\n",
       "      <td>10.00000</td>\n",
       "      <td>10.000000</td>\n",
       "      <td>10.000000</td>\n",
       "      <td>10.000000</td>\n",
       "    </tr>\n",
       "    <tr>\n",
       "      <th>mean</th>\n",
       "      <td>1005.50000</td>\n",
       "      <td>1.800000</td>\n",
       "      <td>80.500000</td>\n",
       "      <td>111.000000</td>\n",
       "    </tr>\n",
       "    <tr>\n",
       "      <th>std</th>\n",
       "      <td>3.02765</td>\n",
       "      <td>1.032796</td>\n",
       "      <td>65.593445</td>\n",
       "      <td>83.725743</td>\n",
       "    </tr>\n",
       "    <tr>\n",
       "      <th>min</th>\n",
       "      <td>1001.00000</td>\n",
       "      <td>1.000000</td>\n",
       "      <td>15.000000</td>\n",
       "      <td>40.000000</td>\n",
       "    </tr>\n",
       "    <tr>\n",
       "      <th>25%</th>\n",
       "      <td>1003.25000</td>\n",
       "      <td>1.000000</td>\n",
       "      <td>27.500000</td>\n",
       "      <td>52.500000</td>\n",
       "    </tr>\n",
       "    <tr>\n",
       "      <th>50%</th>\n",
       "      <td>1005.50000</td>\n",
       "      <td>1.500000</td>\n",
       "      <td>50.000000</td>\n",
       "      <td>80.000000</td>\n",
       "    </tr>\n",
       "    <tr>\n",
       "      <th>75%</th>\n",
       "      <td>1007.75000</td>\n",
       "      <td>2.000000</td>\n",
       "      <td>137.500000</td>\n",
       "      <td>137.500000</td>\n",
       "    </tr>\n",
       "    <tr>\n",
       "      <th>max</th>\n",
       "      <td>1010.00000</td>\n",
       "      <td>4.000000</td>\n",
       "      <td>200.000000</td>\n",
       "      <td>300.000000</td>\n",
       "    </tr>\n",
       "  </tbody>\n",
       "</table>\n",
       "</div>"
      ],
      "text/plain": [
       "          OrderID   Quantity       Price  TotalSales\n",
       "count    10.00000  10.000000   10.000000   10.000000\n",
       "mean   1005.50000   1.800000   80.500000  111.000000\n",
       "std       3.02765   1.032796   65.593445   83.725743\n",
       "min    1001.00000   1.000000   15.000000   40.000000\n",
       "25%    1003.25000   1.000000   27.500000   52.500000\n",
       "50%    1005.50000   1.500000   50.000000   80.000000\n",
       "75%    1007.75000   2.000000  137.500000  137.500000\n",
       "max    1010.00000   4.000000  200.000000  300.000000"
      ]
     },
     "execution_count": 52,
     "metadata": {},
     "output_type": "execute_result"
    }
   ],
   "source": [
    "df.describe()   # this is in-built pandas method to find its discriptive statistics"
   ]
  },
  {
   "cell_type": "code",
   "execution_count": 53,
   "id": "a81719e0",
   "metadata": {},
   "outputs": [
    {
     "data": {
      "text/html": [
       "<div>\n",
       "<style scoped>\n",
       "    .dataframe tbody tr th:only-of-type {\n",
       "        vertical-align: middle;\n",
       "    }\n",
       "\n",
       "    .dataframe tbody tr th {\n",
       "        vertical-align: top;\n",
       "    }\n",
       "\n",
       "    .dataframe thead th {\n",
       "        text-align: right;\n",
       "    }\n",
       "</style>\n",
       "<table border=\"1\" class=\"dataframe\">\n",
       "  <thead>\n",
       "    <tr style=\"text-align: right;\">\n",
       "      <th></th>\n",
       "      <th>CustomerID</th>\n",
       "      <th>PurchaseFrequency</th>\n",
       "    </tr>\n",
       "  </thead>\n",
       "  <tbody>\n",
       "    <tr>\n",
       "      <th>0</th>\n",
       "      <td>C001</td>\n",
       "      <td>3</td>\n",
       "    </tr>\n",
       "    <tr>\n",
       "      <th>1</th>\n",
       "      <td>C002</td>\n",
       "      <td>2</td>\n",
       "    </tr>\n",
       "    <tr>\n",
       "      <th>2</th>\n",
       "      <td>C003</td>\n",
       "      <td>1</td>\n",
       "    </tr>\n",
       "    <tr>\n",
       "      <th>3</th>\n",
       "      <td>C004</td>\n",
       "      <td>1</td>\n",
       "    </tr>\n",
       "    <tr>\n",
       "      <th>4</th>\n",
       "      <td>C005</td>\n",
       "      <td>1</td>\n",
       "    </tr>\n",
       "    <tr>\n",
       "      <th>5</th>\n",
       "      <td>C006</td>\n",
       "      <td>1</td>\n",
       "    </tr>\n",
       "    <tr>\n",
       "      <th>6</th>\n",
       "      <td>C007</td>\n",
       "      <td>1</td>\n",
       "    </tr>\n",
       "  </tbody>\n",
       "</table>\n",
       "</div>"
      ],
      "text/plain": [
       "  CustomerID  PurchaseFrequency\n",
       "0       C001                  3\n",
       "1       C002                  2\n",
       "2       C003                  1\n",
       "3       C004                  1\n",
       "4       C005                  1\n",
       "5       C006                  1\n",
       "6       C007                  1"
      ]
     },
     "execution_count": 53,
     "metadata": {},
     "output_type": "execute_result"
    }
   ],
   "source": [
    "purchase_frequency = df.groupby('CustomerID')['OrderID'].count().reset_index()\n",
    "purchase_frequency.columns = ['CustomerID', 'PurchaseFrequency']\n",
    "purchase_frequency"
   ]
  },
  {
   "cell_type": "code",
   "execution_count": 54,
   "id": "d6c9ebdc",
   "metadata": {},
   "outputs": [],
   "source": [
    "dfi.export(purchase_frequency, \"Purchase_fq.png\")"
   ]
  },
  {
   "cell_type": "code",
   "execution_count": 61,
   "id": "caa757f9",
   "metadata": {
    "scrolled": true
   },
   "outputs": [
    {
     "data": {
      "text/html": [
       "<div>\n",
       "<style scoped>\n",
       "    .dataframe tbody tr th:only-of-type {\n",
       "        vertical-align: middle;\n",
       "    }\n",
       "\n",
       "    .dataframe tbody tr th {\n",
       "        vertical-align: top;\n",
       "    }\n",
       "\n",
       "    .dataframe thead th {\n",
       "        text-align: right;\n",
       "    }\n",
       "</style>\n",
       "<table border=\"1\" class=\"dataframe\">\n",
       "  <thead>\n",
       "    <tr style=\"text-align: right;\">\n",
       "      <th></th>\n",
       "      <th>CustomerID</th>\n",
       "      <th>OrderDate</th>\n",
       "      <th>Recency (days ago)</th>\n",
       "    </tr>\n",
       "  </thead>\n",
       "  <tbody>\n",
       "    <tr>\n",
       "      <th>0</th>\n",
       "      <td>C001</td>\n",
       "      <td>2024-07-09</td>\n",
       "      <td>0</td>\n",
       "    </tr>\n",
       "    <tr>\n",
       "      <th>1</th>\n",
       "      <td>C002</td>\n",
       "      <td>2024-07-05</td>\n",
       "      <td>4</td>\n",
       "    </tr>\n",
       "    <tr>\n",
       "      <th>2</th>\n",
       "      <td>C003</td>\n",
       "      <td>2024-07-02</td>\n",
       "      <td>7</td>\n",
       "    </tr>\n",
       "    <tr>\n",
       "      <th>3</th>\n",
       "      <td>C004</td>\n",
       "      <td>2024-07-03</td>\n",
       "      <td>6</td>\n",
       "    </tr>\n",
       "    <tr>\n",
       "      <th>4</th>\n",
       "      <td>C005</td>\n",
       "      <td>2024-07-06</td>\n",
       "      <td>3</td>\n",
       "    </tr>\n",
       "    <tr>\n",
       "      <th>5</th>\n",
       "      <td>C006</td>\n",
       "      <td>2024-07-07</td>\n",
       "      <td>2</td>\n",
       "    </tr>\n",
       "    <tr>\n",
       "      <th>6</th>\n",
       "      <td>C007</td>\n",
       "      <td>2024-07-08</td>\n",
       "      <td>1</td>\n",
       "    </tr>\n",
       "  </tbody>\n",
       "</table>\n",
       "</div>"
      ],
      "text/plain": [
       "  CustomerID  OrderDate  Recency (days ago)\n",
       "0       C001 2024-07-09                   0\n",
       "1       C002 2024-07-05                   4\n",
       "2       C003 2024-07-02                   7\n",
       "3       C004 2024-07-03                   6\n",
       "4       C005 2024-07-06                   3\n",
       "5       C006 2024-07-07                   2\n",
       "6       C007 2024-07-08                   1"
      ]
     },
     "execution_count": 61,
     "metadata": {},
     "output_type": "execute_result"
    }
   ],
   "source": [
    "df['OrderDate'] = pd.to_datetime(df['OrderDate'])\n",
    "last_purchase = df.groupby('CustomerID')['OrderDate'].max().reset_index()\n",
    "last_purchase['Recency (days ago)'] = (df['OrderDate'].max() - last_purchase['OrderDate']).dt.days\n",
    "dfi.export(last_purchase, \"Recency.png\")\n",
    "last_purchase"
   ]
  },
  {
   "cell_type": "code",
   "execution_count": 62,
   "id": "b47912c3",
   "metadata": {},
   "outputs": [
    {
     "data": {
      "text/html": [
       "<div>\n",
       "<style scoped>\n",
       "    .dataframe tbody tr th:only-of-type {\n",
       "        vertical-align: middle;\n",
       "    }\n",
       "\n",
       "    .dataframe tbody tr th {\n",
       "        vertical-align: top;\n",
       "    }\n",
       "\n",
       "    .dataframe thead th {\n",
       "        text-align: right;\n",
       "    }\n",
       "</style>\n",
       "<table border=\"1\" class=\"dataframe\">\n",
       "  <thead>\n",
       "    <tr style=\"text-align: right;\">\n",
       "      <th></th>\n",
       "      <th>CustomerID</th>\n",
       "      <th>MonetaryValue</th>\n",
       "    </tr>\n",
       "  </thead>\n",
       "  <tbody>\n",
       "    <tr>\n",
       "      <th>0</th>\n",
       "      <td>C001</td>\n",
       "      <td>210.0</td>\n",
       "    </tr>\n",
       "    <tr>\n",
       "      <th>1</th>\n",
       "      <td>C002</td>\n",
       "      <td>450.0</td>\n",
       "    </tr>\n",
       "    <tr>\n",
       "      <th>2</th>\n",
       "      <td>C003</td>\n",
       "      <td>60.0</td>\n",
       "    </tr>\n",
       "    <tr>\n",
       "      <th>3</th>\n",
       "      <td>C004</td>\n",
       "      <td>50.0</td>\n",
       "    </tr>\n",
       "    <tr>\n",
       "      <th>4</th>\n",
       "      <td>C005</td>\n",
       "      <td>100.0</td>\n",
       "    </tr>\n",
       "    <tr>\n",
       "      <th>5</th>\n",
       "      <td>C006</td>\n",
       "      <td>200.0</td>\n",
       "    </tr>\n",
       "    <tr>\n",
       "      <th>6</th>\n",
       "      <td>C007</td>\n",
       "      <td>40.0</td>\n",
       "    </tr>\n",
       "  </tbody>\n",
       "</table>\n",
       "</div>"
      ],
      "text/plain": [
       "  CustomerID  MonetaryValue\n",
       "0       C001          210.0\n",
       "1       C002          450.0\n",
       "2       C003           60.0\n",
       "3       C004           50.0\n",
       "4       C005          100.0\n",
       "5       C006          200.0\n",
       "6       C007           40.0"
      ]
     },
     "execution_count": 62,
     "metadata": {},
     "output_type": "execute_result"
    }
   ],
   "source": [
    "monetary_value = df.groupby('CustomerID')['TotalSales'].sum().reset_index()\n",
    "monetary_value.columns = ['CustomerID', 'MonetaryValue']\n",
    "\n",
    "dfi.export(monetary_value, \"Monetory.png\")\n",
    "monetary_value"
   ]
  },
  {
   "cell_type": "markdown",
   "id": "16dd9682",
   "metadata": {},
   "source": [
    "### Customer Segmentations\n",
    "Customers are segmented based on their total sales contributions using K-Means clustering."
   ]
  },
  {
   "cell_type": "code",
   "execution_count": 57,
   "id": "c54d9475",
   "metadata": {},
   "outputs": [
    {
     "data": {
      "text/html": [
       "<div>\n",
       "<style scoped>\n",
       "    .dataframe tbody tr th:only-of-type {\n",
       "        vertical-align: middle;\n",
       "    }\n",
       "\n",
       "    .dataframe tbody tr th {\n",
       "        vertical-align: top;\n",
       "    }\n",
       "\n",
       "    .dataframe thead th {\n",
       "        text-align: right;\n",
       "    }\n",
       "</style>\n",
       "<table border=\"1\" class=\"dataframe\">\n",
       "  <thead>\n",
       "    <tr style=\"text-align: right;\">\n",
       "      <th></th>\n",
       "      <th>CustomerID</th>\n",
       "      <th>TotalSales</th>\n",
       "    </tr>\n",
       "  </thead>\n",
       "  <tbody>\n",
       "    <tr>\n",
       "      <th>0</th>\n",
       "      <td>C001</td>\n",
       "      <td>210.0</td>\n",
       "    </tr>\n",
       "    <tr>\n",
       "      <th>1</th>\n",
       "      <td>C002</td>\n",
       "      <td>450.0</td>\n",
       "    </tr>\n",
       "    <tr>\n",
       "      <th>2</th>\n",
       "      <td>C003</td>\n",
       "      <td>60.0</td>\n",
       "    </tr>\n",
       "    <tr>\n",
       "      <th>3</th>\n",
       "      <td>C004</td>\n",
       "      <td>50.0</td>\n",
       "    </tr>\n",
       "    <tr>\n",
       "      <th>4</th>\n",
       "      <td>C005</td>\n",
       "      <td>100.0</td>\n",
       "    </tr>\n",
       "    <tr>\n",
       "      <th>5</th>\n",
       "      <td>C006</td>\n",
       "      <td>200.0</td>\n",
       "    </tr>\n",
       "    <tr>\n",
       "      <th>6</th>\n",
       "      <td>C007</td>\n",
       "      <td>40.0</td>\n",
       "    </tr>\n",
       "  </tbody>\n",
       "</table>\n",
       "</div>"
      ],
      "text/plain": [
       "  CustomerID  TotalSales\n",
       "0       C001       210.0\n",
       "1       C002       450.0\n",
       "2       C003        60.0\n",
       "3       C004        50.0\n",
       "4       C005       100.0\n",
       "5       C006       200.0\n",
       "6       C007        40.0"
      ]
     },
     "execution_count": 57,
     "metadata": {},
     "output_type": "execute_result"
    }
   ],
   "source": [
    "customer_sales = df.groupby('CustomerID')['TotalSales'].sum().reset_index()\n",
    "customer_sales"
   ]
  },
  {
   "cell_type": "code",
   "execution_count": 58,
   "id": "f0451648",
   "metadata": {},
   "outputs": [
    {
     "name": "stderr",
     "output_type": "stream",
     "text": [
      "C:\\Users\\DHANYATHA\\anaconda3\\Lib\\site-packages\\sklearn\\cluster\\_kmeans.py:1412: FutureWarning: The default value of `n_init` will change from 10 to 'auto' in 1.4. Set the value of `n_init` explicitly to suppress the warning\n",
      "  super()._check_params_vs_input(X, default_n_init=10)\n",
      "C:\\Users\\DHANYATHA\\anaconda3\\Lib\\site-packages\\sklearn\\cluster\\_kmeans.py:1436: UserWarning: KMeans is known to have a memory leak on Windows with MKL, when there are less chunks than available threads. You can avoid it by setting the environment variable OMP_NUM_THREADS=1.\n",
      "  warnings.warn(\n"
     ]
    },
    {
     "data": {
      "text/html": [
       "<style>#sk-container-id-1 {color: black;}#sk-container-id-1 pre{padding: 0;}#sk-container-id-1 div.sk-toggleable {background-color: white;}#sk-container-id-1 label.sk-toggleable__label {cursor: pointer;display: block;width: 100%;margin-bottom: 0;padding: 0.3em;box-sizing: border-box;text-align: center;}#sk-container-id-1 label.sk-toggleable__label-arrow:before {content: \"▸\";float: left;margin-right: 0.25em;color: #696969;}#sk-container-id-1 label.sk-toggleable__label-arrow:hover:before {color: black;}#sk-container-id-1 div.sk-estimator:hover label.sk-toggleable__label-arrow:before {color: black;}#sk-container-id-1 div.sk-toggleable__content {max-height: 0;max-width: 0;overflow: hidden;text-align: left;background-color: #f0f8ff;}#sk-container-id-1 div.sk-toggleable__content pre {margin: 0.2em;color: black;border-radius: 0.25em;background-color: #f0f8ff;}#sk-container-id-1 input.sk-toggleable__control:checked~div.sk-toggleable__content {max-height: 200px;max-width: 100%;overflow: auto;}#sk-container-id-1 input.sk-toggleable__control:checked~label.sk-toggleable__label-arrow:before {content: \"▾\";}#sk-container-id-1 div.sk-estimator input.sk-toggleable__control:checked~label.sk-toggleable__label {background-color: #d4ebff;}#sk-container-id-1 div.sk-label input.sk-toggleable__control:checked~label.sk-toggleable__label {background-color: #d4ebff;}#sk-container-id-1 input.sk-hidden--visually {border: 0;clip: rect(1px 1px 1px 1px);clip: rect(1px, 1px, 1px, 1px);height: 1px;margin: -1px;overflow: hidden;padding: 0;position: absolute;width: 1px;}#sk-container-id-1 div.sk-estimator {font-family: monospace;background-color: #f0f8ff;border: 1px dotted black;border-radius: 0.25em;box-sizing: border-box;margin-bottom: 0.5em;}#sk-container-id-1 div.sk-estimator:hover {background-color: #d4ebff;}#sk-container-id-1 div.sk-parallel-item::after {content: \"\";width: 100%;border-bottom: 1px solid gray;flex-grow: 1;}#sk-container-id-1 div.sk-label:hover label.sk-toggleable__label {background-color: #d4ebff;}#sk-container-id-1 div.sk-serial::before {content: \"\";position: absolute;border-left: 1px solid gray;box-sizing: border-box;top: 0;bottom: 0;left: 50%;z-index: 0;}#sk-container-id-1 div.sk-serial {display: flex;flex-direction: column;align-items: center;background-color: white;padding-right: 0.2em;padding-left: 0.2em;position: relative;}#sk-container-id-1 div.sk-item {position: relative;z-index: 1;}#sk-container-id-1 div.sk-parallel {display: flex;align-items: stretch;justify-content: center;background-color: white;position: relative;}#sk-container-id-1 div.sk-item::before, #sk-container-id-1 div.sk-parallel-item::before {content: \"\";position: absolute;border-left: 1px solid gray;box-sizing: border-box;top: 0;bottom: 0;left: 50%;z-index: -1;}#sk-container-id-1 div.sk-parallel-item {display: flex;flex-direction: column;z-index: 1;position: relative;background-color: white;}#sk-container-id-1 div.sk-parallel-item:first-child::after {align-self: flex-end;width: 50%;}#sk-container-id-1 div.sk-parallel-item:last-child::after {align-self: flex-start;width: 50%;}#sk-container-id-1 div.sk-parallel-item:only-child::after {width: 0;}#sk-container-id-1 div.sk-dashed-wrapped {border: 1px dashed gray;margin: 0 0.4em 0.5em 0.4em;box-sizing: border-box;padding-bottom: 0.4em;background-color: white;}#sk-container-id-1 div.sk-label label {font-family: monospace;font-weight: bold;display: inline-block;line-height: 1.2em;}#sk-container-id-1 div.sk-label-container {text-align: center;}#sk-container-id-1 div.sk-container {/* jupyter's `normalize.less` sets `[hidden] { display: none; }` but bootstrap.min.css set `[hidden] { display: none !important; }` so we also need the `!important` here to be able to override the default hidden behavior on the sphinx rendered scikit-learn.org. See: https://github.com/scikit-learn/scikit-learn/issues/21755 */display: inline-block !important;position: relative;}#sk-container-id-1 div.sk-text-repr-fallback {display: none;}</style><div id=\"sk-container-id-1\" class=\"sk-top-container\"><div class=\"sk-text-repr-fallback\"><pre>KMeans(n_clusters=3, random_state=0)</pre><b>In a Jupyter environment, please rerun this cell to show the HTML representation or trust the notebook. <br />On GitHub, the HTML representation is unable to render, please try loading this page with nbviewer.org.</b></div><div class=\"sk-container\" hidden><div class=\"sk-item\"><div class=\"sk-estimator sk-toggleable\"><input class=\"sk-toggleable__control sk-hidden--visually\" id=\"sk-estimator-id-1\" type=\"checkbox\" checked><label for=\"sk-estimator-id-1\" class=\"sk-toggleable__label sk-toggleable__label-arrow\">KMeans</label><div class=\"sk-toggleable__content\"><pre>KMeans(n_clusters=3, random_state=0)</pre></div></div></div></div></div>"
      ],
      "text/plain": [
       "KMeans(n_clusters=3, random_state=0)"
      ]
     },
     "execution_count": 58,
     "metadata": {},
     "output_type": "execute_result"
    }
   ],
   "source": [
    "kmeans = KMeans(n_clusters=3, random_state=0).fit(customer_sales[['TotalSales']])\n",
    "kmeans"
   ]
  },
  {
   "cell_type": "code",
   "execution_count": 59,
   "id": "eb59ee9a",
   "metadata": {},
   "outputs": [],
   "source": [
    "customer_sales['Segment'] = kmeans.labels_\n",
    "customer_sales\n",
    "dfi.export(customer_sales, \"Customer_segment.png\")"
   ]
  },
  {
   "cell_type": "markdown",
   "id": "cfc4bc45",
   "metadata": {},
   "source": [
    "Segment 0: Customers with lower total sales.  \n",
    "Segment 1: Customers with the highest total sales.  \n",
    "Segment 2: Customers with moderate total sales."
   ]
  },
  {
   "cell_type": "markdown",
   "id": "2bbbd0e1",
   "metadata": {},
   "source": [
    "### Product Analysis and Sales Trends"
   ]
  },
  {
   "cell_type": "code",
   "execution_count": 25,
   "id": "beea1cee",
   "metadata": {},
   "outputs": [
    {
     "data": {
      "text/html": [
       "<div>\n",
       "<style scoped>\n",
       "    .dataframe tbody tr th:only-of-type {\n",
       "        vertical-align: middle;\n",
       "    }\n",
       "\n",
       "    .dataframe tbody tr th {\n",
       "        vertical-align: top;\n",
       "    }\n",
       "\n",
       "    .dataframe thead th {\n",
       "        text-align: right;\n",
       "    }\n",
       "</style>\n",
       "<table border=\"1\" class=\"dataframe\">\n",
       "  <thead>\n",
       "    <tr style=\"text-align: right;\">\n",
       "      <th></th>\n",
       "      <th>ProductID</th>\n",
       "      <th>TotalSales</th>\n",
       "      <th>Contribution %</th>\n",
       "    </tr>\n",
       "  </thead>\n",
       "  <tbody>\n",
       "    <tr>\n",
       "      <th>0</th>\n",
       "      <td>P001</td>\n",
       "      <td>200.0</td>\n",
       "      <td>18.018018</td>\n",
       "    </tr>\n",
       "    <tr>\n",
       "      <th>1</th>\n",
       "      <td>P002</td>\n",
       "      <td>450.0</td>\n",
       "      <td>40.540541</td>\n",
       "    </tr>\n",
       "    <tr>\n",
       "      <th>2</th>\n",
       "      <td>P003</td>\n",
       "      <td>100.0</td>\n",
       "      <td>9.009009</td>\n",
       "    </tr>\n",
       "    <tr>\n",
       "      <th>3</th>\n",
       "      <td>P004</td>\n",
       "      <td>60.0</td>\n",
       "      <td>5.405405</td>\n",
       "    </tr>\n",
       "    <tr>\n",
       "      <th>4</th>\n",
       "      <td>P005</td>\n",
       "      <td>100.0</td>\n",
       "      <td>9.009009</td>\n",
       "    </tr>\n",
       "    <tr>\n",
       "      <th>5</th>\n",
       "      <td>P006</td>\n",
       "      <td>200.0</td>\n",
       "      <td>18.018018</td>\n",
       "    </tr>\n",
       "  </tbody>\n",
       "</table>\n",
       "</div>"
      ],
      "text/plain": [
       "  ProductID  TotalSales  Contribution %\n",
       "0      P001       200.0       18.018018\n",
       "1      P002       450.0       40.540541\n",
       "2      P003       100.0        9.009009\n",
       "3      P004        60.0        5.405405\n",
       "4      P005       100.0        9.009009\n",
       "5      P006       200.0       18.018018"
      ]
     },
     "execution_count": 25,
     "metadata": {},
     "output_type": "execute_result"
    }
   ],
   "source": [
    "product_sales = df.groupby('ProductID')['TotalSales'].sum().reset_index()\n",
    "product_sales['Contribution %'] = product_sales['TotalSales'] / product_sales['TotalSales'].sum() * 100 # claculating percentages of contributions\n",
    "product_sales"
   ]
  },
  {
   "cell_type": "code",
   "execution_count": 26,
   "id": "6abad747",
   "metadata": {},
   "outputs": [
    {
     "data": {
      "text/html": [
       "<div>\n",
       "<style scoped>\n",
       "    .dataframe tbody tr th:only-of-type {\n",
       "        vertical-align: middle;\n",
       "    }\n",
       "\n",
       "    .dataframe tbody tr th {\n",
       "        vertical-align: top;\n",
       "    }\n",
       "\n",
       "    .dataframe thead th {\n",
       "        text-align: right;\n",
       "    }\n",
       "</style>\n",
       "<table border=\"1\" class=\"dataframe\">\n",
       "  <thead>\n",
       "    <tr style=\"text-align: right;\">\n",
       "      <th></th>\n",
       "      <th>OrderDate</th>\n",
       "      <th>TotalSales</th>\n",
       "    </tr>\n",
       "  </thead>\n",
       "  <tbody>\n",
       "    <tr>\n",
       "      <th>0</th>\n",
       "      <td>2024-07-01</td>\n",
       "      <td>100.0</td>\n",
       "    </tr>\n",
       "    <tr>\n",
       "      <th>1</th>\n",
       "      <td>2024-07-02</td>\n",
       "      <td>210.0</td>\n",
       "    </tr>\n",
       "    <tr>\n",
       "      <th>2</th>\n",
       "      <td>2024-07-03</td>\n",
       "      <td>110.0</td>\n",
       "    </tr>\n",
       "    <tr>\n",
       "      <th>3</th>\n",
       "      <td>2024-07-05</td>\n",
       "      <td>300.0</td>\n",
       "    </tr>\n",
       "    <tr>\n",
       "      <th>4</th>\n",
       "      <td>2024-07-06</td>\n",
       "      <td>100.0</td>\n",
       "    </tr>\n",
       "    <tr>\n",
       "      <th>5</th>\n",
       "      <td>2024-07-07</td>\n",
       "      <td>200.0</td>\n",
       "    </tr>\n",
       "    <tr>\n",
       "      <th>6</th>\n",
       "      <td>2024-07-08</td>\n",
       "      <td>40.0</td>\n",
       "    </tr>\n",
       "    <tr>\n",
       "      <th>7</th>\n",
       "      <td>2024-07-09</td>\n",
       "      <td>50.0</td>\n",
       "    </tr>\n",
       "  </tbody>\n",
       "</table>\n",
       "</div>"
      ],
      "text/plain": [
       "    OrderDate  TotalSales\n",
       "0  2024-07-01       100.0\n",
       "1  2024-07-02       210.0\n",
       "2  2024-07-03       110.0\n",
       "3  2024-07-05       300.0\n",
       "4  2024-07-06       100.0\n",
       "5  2024-07-07       200.0\n",
       "6  2024-07-08        40.0\n",
       "7  2024-07-09        50.0"
      ]
     },
     "execution_count": 26,
     "metadata": {},
     "output_type": "execute_result"
    }
   ],
   "source": [
    "sales_trends = df.groupby('OrderDate')['TotalSales'].sum().reset_index()\n",
    "sales_trends"
   ]
  },
  {
   "cell_type": "code",
   "execution_count": 48,
   "id": "452dd4b9",
   "metadata": {},
   "outputs": [
    {
     "data": {
      "image/png": "[encoded data removed]",
      "text/plain": [
       "<Figure size 1000x600 with 1 Axes>"
      ]
     },
     "metadata": {},
     "output_type": "display_data"
    }
   ],
   "source": [
    "plt.figure(figsize=(10, 6))\n",
    "plt.plot(sales_trends['OrderDate'], sales_trends['TotalSales'], marker='o')\n",
    "plt.title('Sales Trends Over Time')\n",
    "plt.xlabel('Order Date')\n",
    "plt.ylabel('Total Sales')\n",
    "plt.grid(True)\n",
    "plt.savefig('Sales_Trend.png')\n",
    "plt.show()"
   ]
  },
  {
   "cell_type": "code",
   "execution_count": 38,
   "id": "9ecb628e",
   "metadata": {
    "scrolled": true
   },
   "outputs": [
    {
     "data": {
      "text/html": [
       "<div>\n",
       "<style scoped>\n",
       "    .dataframe tbody tr th:only-of-type {\n",
       "        vertical-align: middle;\n",
       "    }\n",
       "\n",
       "    .dataframe tbody tr th {\n",
       "        vertical-align: top;\n",
       "    }\n",
       "\n",
       "    .dataframe thead th {\n",
       "        text-align: right;\n",
       "    }\n",
       "</style>\n",
       "<table border=\"1\" class=\"dataframe\">\n",
       "  <thead>\n",
       "    <tr style=\"text-align: right;\">\n",
       "      <th></th>\n",
       "      <th>OrderDate</th>\n",
       "      <th>Growth_Rate</th>\n",
       "    </tr>\n",
       "  </thead>\n",
       "  <tbody>\n",
       "    <tr>\n",
       "      <th>0</th>\n",
       "      <td>2024-07-01</td>\n",
       "      <td>0.000000</td>\n",
       "    </tr>\n",
       "    <tr>\n",
       "      <th>1</th>\n",
       "      <td>2024-07-02</td>\n",
       "      <td>-10.000000</td>\n",
       "    </tr>\n",
       "    <tr>\n",
       "      <th>2</th>\n",
       "      <td>2024-07-03</td>\n",
       "      <td>3.333333</td>\n",
       "    </tr>\n",
       "    <tr>\n",
       "      <th>3</th>\n",
       "      <td>2024-07-05</td>\n",
       "      <td>400.000000</td>\n",
       "    </tr>\n",
       "    <tr>\n",
       "      <th>4</th>\n",
       "      <td>2024-07-06</td>\n",
       "      <td>-66.666667</td>\n",
       "    </tr>\n",
       "    <tr>\n",
       "      <th>5</th>\n",
       "      <td>2024-07-07</td>\n",
       "      <td>100.000000</td>\n",
       "    </tr>\n",
       "    <tr>\n",
       "      <th>6</th>\n",
       "      <td>2024-07-08</td>\n",
       "      <td>-80.000000</td>\n",
       "    </tr>\n",
       "    <tr>\n",
       "      <th>7</th>\n",
       "      <td>2024-07-09</td>\n",
       "      <td>25.000000</td>\n",
       "    </tr>\n",
       "  </tbody>\n",
       "</table>\n",
       "</div>"
      ],
      "text/plain": [
       "    OrderDate  Growth_Rate\n",
       "0  2024-07-01     0.000000\n",
       "1  2024-07-02   -10.000000\n",
       "2  2024-07-03     3.333333\n",
       "3  2024-07-05   400.000000\n",
       "4  2024-07-06   -66.666667\n",
       "5  2024-07-07   100.000000\n",
       "6  2024-07-08   -80.000000\n",
       "7  2024-07-09    25.000000"
      ]
     },
     "execution_count": 38,
     "metadata": {},
     "output_type": "execute_result"
    }
   ],
   "source": [
    "#Sales Growth Over the Days in a Month\n",
    "df['Growth_Rate'] = df['TotalSales'].pct_change(periods=1) * 100\n",
    "Sales_growth = df.groupby('OrderDate')['Growth_Rate'].sum().reset_index()\n",
    "Sales_growth"
   ]
  },
  {
   "cell_type": "code",
   "execution_count": 47,
   "id": "a1528af9",
   "metadata": {},
   "outputs": [
    {
     "data": {
      "image/png": "[encoded data removed]",
      "text/plain": [
       "<Figure size 1000x600 with 1 Axes>"
      ]
     },
     "metadata": {},
     "output_type": "display_data"
    }
   ],
   "source": [
    "#line Graph\n",
    "plt.figure(figsize=(10, 6))\n",
    "plt.plot(Sales_growth['OrderDate'], Sales_growth['Growth_Rate'], marker='o')\n",
    "plt.title('Sales Growth Over Days in Month')\n",
    "plt.xlabel('Order Date')\n",
    "plt.ylabel('Growth Rate')\n",
    "plt.grid(True)\n",
    "plt.savefig('Sales_growth.png')\n",
    "plt.show()"
   ]
  },
  {
   "cell_type": "markdown",
   "id": "c02374fa",
   "metadata": {},
   "source": [
    "### Revenue by Category"
   ]
  },
  {
   "cell_type": "code",
   "execution_count": 28,
   "id": "2d96ed4d",
   "metadata": {},
   "outputs": [
    {
     "data": {
      "text/html": [
       "<div>\n",
       "<style scoped>\n",
       "    .dataframe tbody tr th:only-of-type {\n",
       "        vertical-align: middle;\n",
       "    }\n",
       "\n",
       "    .dataframe tbody tr th {\n",
       "        vertical-align: top;\n",
       "    }\n",
       "\n",
       "    .dataframe thead th {\n",
       "        text-align: right;\n",
       "    }\n",
       "</style>\n",
       "<table border=\"1\" class=\"dataframe\">\n",
       "  <thead>\n",
       "    <tr style=\"text-align: right;\">\n",
       "      <th></th>\n",
       "      <th>Category</th>\n",
       "      <th>TotalSales</th>\n",
       "      <th>RevenueContribution (%)</th>\n",
       "    </tr>\n",
       "  </thead>\n",
       "  <tbody>\n",
       "    <tr>\n",
       "      <th>0</th>\n",
       "      <td>Apparel</td>\n",
       "      <td>450.0</td>\n",
       "      <td>449.000000</td>\n",
       "    </tr>\n",
       "    <tr>\n",
       "      <th>1</th>\n",
       "      <td>Electronics</td>\n",
       "      <td>400.0</td>\n",
       "      <td>265.666667</td>\n",
       "    </tr>\n",
       "    <tr>\n",
       "      <th>2</th>\n",
       "      <td>Groceries</td>\n",
       "      <td>160.0</td>\n",
       "      <td>265.666667</td>\n",
       "    </tr>\n",
       "    <tr>\n",
       "      <th>3</th>\n",
       "      <td>Home</td>\n",
       "      <td>100.0</td>\n",
       "      <td>199.000000</td>\n",
       "    </tr>\n",
       "  </tbody>\n",
       "</table>\n",
       "</div>"
      ],
      "text/plain": [
       "      Category  TotalSales  RevenueContribution (%)\n",
       "0      Apparel       450.0               449.000000\n",
       "1  Electronics       400.0               265.666667\n",
       "2    Groceries       160.0               265.666667\n",
       "3         Home       100.0               199.000000"
      ]
     },
     "execution_count": 28,
     "metadata": {},
     "output_type": "execute_result"
    }
   ],
   "source": [
    "revenue_optimization = df.groupby('Category')['TotalSales'].sum().reset_index()\n",
    "revenue_optimization['RevenueContribution (%)'] = (revenue_optimization['TotalSales'] / df['TotalSales']) * 100-1\n",
    "revenue_optimization"
   ]
  },
  {
   "cell_type": "code",
   "execution_count": 51,
   "id": "85f221c2",
   "metadata": {},
   "outputs": [
    {
     "data": {
      "image/png": "[encoded data removed]",
      "text/plain": [
       "<Figure size 800x600 with 1 Axes>"
      ]
     },
     "metadata": {},
     "output_type": "display_data"
    }
   ],
   "source": [
    "import seaborn as sns\n",
    "plt.figure(figsize=(8, 6))\n",
    "sns.barplot(x='Category', y='RevenueContribution (%)', data=revenue_optimization, palette='deep')\n",
    "plt.title('Revenue Contribution by Category')\n",
    "plt.xlabel('Category')\n",
    "plt.ylabel('Revenue Contribution (%)')\n",
    "plt.xticks(rotation=0)\n",
    "plt.tight_layout()\n",
    "plt.savefig('Revenue.png')\n",
    "plt.show()"
   ]
  },
  {
   "cell_type": "markdown",
   "id": "041fe960",
   "metadata": {},
   "source": [
    "### Objective 3:\n",
    "Optimize inventory levels to reduce stockouts and overstock."
   ]
  },
  {
   "cell_type": "code",
   "execution_count": 63,
   "id": "9a71dbae",
   "metadata": {
    "scrolled": true
   },
   "outputs": [
    {
     "data": {
      "text/html": [
       "<div>\n",
       "<style scoped>\n",
       "    .dataframe tbody tr th:only-of-type {\n",
       "        vertical-align: middle;\n",
       "    }\n",
       "\n",
       "    .dataframe tbody tr th {\n",
       "        vertical-align: top;\n",
       "    }\n",
       "\n",
       "    .dataframe thead th {\n",
       "        text-align: right;\n",
       "    }\n",
       "</style>\n",
       "<table border=\"1\" class=\"dataframe\">\n",
       "  <thead>\n",
       "    <tr style=\"text-align: right;\">\n",
       "      <th></th>\n",
       "      <th>ProductID</th>\n",
       "      <th>TotalQuantitySold</th>\n",
       "    </tr>\n",
       "  </thead>\n",
       "  <tbody>\n",
       "    <tr>\n",
       "      <th>0</th>\n",
       "      <td>P001</td>\n",
       "      <td>4</td>\n",
       "    </tr>\n",
       "    <tr>\n",
       "      <th>1</th>\n",
       "      <td>P002</td>\n",
       "      <td>3</td>\n",
       "    </tr>\n",
       "    <tr>\n",
       "      <th>2</th>\n",
       "      <td>P003</td>\n",
       "      <td>5</td>\n",
       "    </tr>\n",
       "    <tr>\n",
       "      <th>3</th>\n",
       "      <td>P004</td>\n",
       "      <td>4</td>\n",
       "    </tr>\n",
       "    <tr>\n",
       "      <th>4</th>\n",
       "      <td>P005</td>\n",
       "      <td>1</td>\n",
       "    </tr>\n",
       "    <tr>\n",
       "      <th>5</th>\n",
       "      <td>P006</td>\n",
       "      <td>1</td>\n",
       "    </tr>\n",
       "  </tbody>\n",
       "</table>\n",
       "</div>"
      ],
      "text/plain": [
       "  ProductID  TotalQuantitySold\n",
       "0      P001                  4\n",
       "1      P002                  3\n",
       "2      P003                  5\n",
       "3      P004                  4\n",
       "4      P005                  1\n",
       "5      P006                  1"
      ]
     },
     "execution_count": 63,
     "metadata": {},
     "output_type": "execute_result"
    }
   ],
   "source": [
    "#  sales performance of each product and identify which products require restocking. \n",
    "inventory_management = df.groupby('ProductID')[\"Quantity\"].sum().reset_index()\n",
    "inventory_management = inventory_management.rename(columns={'Quantity': 'TotalQuantitySold'})\n",
    "inventory_management "
   ]
  },
  {
   "cell_type": "code",
   "execution_count": 52,
   "id": "cf0bc9d3",
   "metadata": {},
   "outputs": [
    {
     "data": {
      "image/png": "[encoded data removed]",
      "text/plain": [
       "<Figure size 1200x600 with 1 Axes>"
      ]
     },
     "metadata": {},
     "output_type": "display_data"
    }
   ],
   "source": [
    "#plot bar graph for Inventory Management\n",
    "import seaborn as sns\n",
    "plt.figure(figsize=(12,6))\n",
    "sns.barplot(x='ProductID', y=\"TotalQuantitySold\", data =inventory_management, palette='viridis' )\n",
    "plt.title(\"Inventory Management\")\n",
    "plt.xlabel('Product ID')\n",
    "plt.ylabel('TotalQuantitySold')\n",
    "plt.savefig('Inventory.png')\n",
    "plt.show()"
   ]
  },
  {
   "cell_type": "markdown",
   "id": "c52146cd",
   "metadata": {},
   "source": [
    "## Insights\n",
    "\n",
    "### Customer Segmentation:   \n",
    "Most customers fall into Segment 0, indicating a lower purchase volume, while only a few customers (C002) make up the highest sales segment (Segment 1).  \n",
    "### Product Performance:  \n",
    "Product P002 is the top-selling product, contributing over 40% of the total sales. Focusing marketing efforts on such high-performing products could boost sales.   \n",
    "Most of the products from P002 are sold in East Region which shows lead in Sales.  \n",
    "### Sales Trends:  \n",
    "There is a noticeable peak in sales on specific dates (e.g., 2024-07-05), which could be due to promotions or other events. Identifying these trends helps in planning future sales strategies.\n",
    "### Revenue  \n",
    "Among the categories 'Apperal's are the most Procduct Sold and Generated more Revenue its Evident that Product ID P002 is Top Selling product, more sales in East Region and highest revenue generating Product.\n",
    "### Inventory management\n",
    "Product P003 has to restock or reload the product as its the one whcih is sold more in Quantity (TotalQuantitySold = 5)."
   ]
  },
  {
   "cell_type": "markdown",
   "id": "4a650dcf",
   "metadata": {},
   "source": [
    "## Recommendations\n",
    "-- Need a attentions to the marketing strategies for least sold produdt P003(Under Performing in East and west) regions.  \n",
    "-- Focus on expanding the Electronics product "
   ]
  },
  {
   "cell_type": "code",
   "execution_count": null,
   "id": "9cfa6cf1",
   "metadata": {},
   "outputs": [],
   "source": []
  }
 ],
 "metadata": {
  "kernelspec": {
   "display_name": "Python 3 (ipykernel)",
   "language": "python",
   "name": "python3"
  },
  "language_info": {
   "codemirror_mode": {
    "name": "ipython",
    "version": 3
   },
   "file_extension": ".py",
   "mimetype": "text/x-python",
   "name": "python",
   "nbconvert_exporter": "python",
   "pygments_lexer": "ipython3",
   "version": "3.11.4"
  }
 },
 "nbformat": 4,
 "nbformat_minor": 5
}
